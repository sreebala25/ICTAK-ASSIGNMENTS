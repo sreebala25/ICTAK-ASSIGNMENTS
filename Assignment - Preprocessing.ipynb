{
 "cells": [
  {
   "cell_type": "code",
   "execution_count": 1,
   "id": "c12b6e37-7e2c-40c9-b62f-f8bfe2392b9b",
   "metadata": {},
   "outputs": [],
   "source": [
    "import pandas as pd\n",
    "import numpy as np\n",
    "import matplotlib.pyplot as plt\n",
    "import seaborn as sns"
   ]
  },
  {
   "cell_type": "code",
   "execution_count": 2,
   "id": "ab3fba3c-0fcf-4071-b9cf-78041879dd2c",
   "metadata": {},
   "outputs": [],
   "source": [
    "data = pd.read_csv(r\"F:\\DS\\ASSIGNMENTS\\Assignment 5\\titanic_dataset.csv\", index_col = 'PassengerId')"
   ]
  },
  {
   "cell_type": "code",
   "execution_count": 3,
   "id": "329a75ee-72c1-4652-92ee-7d2af8b3ecab",
   "metadata": {},
   "outputs": [
    {
     "data": {
      "text/html": [
       "<div>\n",
       "<style scoped>\n",
       "    .dataframe tbody tr th:only-of-type {\n",
       "        vertical-align: middle;\n",
       "    }\n",
       "\n",
       "    .dataframe tbody tr th {\n",
       "        vertical-align: top;\n",
       "    }\n",
       "\n",
       "    .dataframe thead th {\n",
       "        text-align: right;\n",
       "    }\n",
       "</style>\n",
       "<table border=\"1\" class=\"dataframe\">\n",
       "  <thead>\n",
       "    <tr style=\"text-align: right;\">\n",
       "      <th></th>\n",
       "      <th>Survived</th>\n",
       "      <th>Pclass</th>\n",
       "      <th>Name</th>\n",
       "      <th>Sex</th>\n",
       "      <th>Age</th>\n",
       "      <th>SibSp</th>\n",
       "      <th>Parch</th>\n",
       "      <th>Ticket</th>\n",
       "      <th>Fare</th>\n",
       "      <th>Cabin</th>\n",
       "      <th>Embarked</th>\n",
       "    </tr>\n",
       "    <tr>\n",
       "      <th>PassengerId</th>\n",
       "      <th></th>\n",
       "      <th></th>\n",
       "      <th></th>\n",
       "      <th></th>\n",
       "      <th></th>\n",
       "      <th></th>\n",
       "      <th></th>\n",
       "      <th></th>\n",
       "      <th></th>\n",
       "      <th></th>\n",
       "      <th></th>\n",
       "    </tr>\n",
       "  </thead>\n",
       "  <tbody>\n",
       "    <tr>\n",
       "      <th>1</th>\n",
       "      <td>0</td>\n",
       "      <td>3</td>\n",
       "      <td>Braund, Mr. Owen Harris</td>\n",
       "      <td>male</td>\n",
       "      <td>22.0</td>\n",
       "      <td>1</td>\n",
       "      <td>0</td>\n",
       "      <td>A/5 21171</td>\n",
       "      <td>7.2500</td>\n",
       "      <td>NaN</td>\n",
       "      <td>S</td>\n",
       "    </tr>\n",
       "    <tr>\n",
       "      <th>2</th>\n",
       "      <td>1</td>\n",
       "      <td>1</td>\n",
       "      <td>Cumings, Mrs. John Bradley (Florence Briggs Th...</td>\n",
       "      <td>female</td>\n",
       "      <td>38.0</td>\n",
       "      <td>1</td>\n",
       "      <td>0</td>\n",
       "      <td>PC 17599</td>\n",
       "      <td>71.2833</td>\n",
       "      <td>C85</td>\n",
       "      <td>C</td>\n",
       "    </tr>\n",
       "    <tr>\n",
       "      <th>3</th>\n",
       "      <td>1</td>\n",
       "      <td>3</td>\n",
       "      <td>Heikkinen, Miss. Laina</td>\n",
       "      <td>female</td>\n",
       "      <td>26.0</td>\n",
       "      <td>0</td>\n",
       "      <td>0</td>\n",
       "      <td>STON/O2. 3101282</td>\n",
       "      <td>7.9250</td>\n",
       "      <td>NaN</td>\n",
       "      <td>S</td>\n",
       "    </tr>\n",
       "    <tr>\n",
       "      <th>4</th>\n",
       "      <td>1</td>\n",
       "      <td>1</td>\n",
       "      <td>Futrelle, Mrs. Jacques Heath (Lily May Peel)</td>\n",
       "      <td>female</td>\n",
       "      <td>35.0</td>\n",
       "      <td>1</td>\n",
       "      <td>0</td>\n",
       "      <td>113803</td>\n",
       "      <td>53.1000</td>\n",
       "      <td>C123</td>\n",
       "      <td>S</td>\n",
       "    </tr>\n",
       "    <tr>\n",
       "      <th>5</th>\n",
       "      <td>0</td>\n",
       "      <td>3</td>\n",
       "      <td>Allen, Mr. William Henry</td>\n",
       "      <td>male</td>\n",
       "      <td>35.0</td>\n",
       "      <td>0</td>\n",
       "      <td>0</td>\n",
       "      <td>373450</td>\n",
       "      <td>8.0500</td>\n",
       "      <td>NaN</td>\n",
       "      <td>S</td>\n",
       "    </tr>\n",
       "  </tbody>\n",
       "</table>\n",
       "</div>"
      ],
      "text/plain": [
       "             Survived  Pclass  \\\n",
       "PassengerId                     \n",
       "1                   0       3   \n",
       "2                   1       1   \n",
       "3                   1       3   \n",
       "4                   1       1   \n",
       "5                   0       3   \n",
       "\n",
       "                                                          Name     Sex   Age  \\\n",
       "PassengerId                                                                    \n",
       "1                                      Braund, Mr. Owen Harris    male  22.0   \n",
       "2            Cumings, Mrs. John Bradley (Florence Briggs Th...  female  38.0   \n",
       "3                                       Heikkinen, Miss. Laina  female  26.0   \n",
       "4                 Futrelle, Mrs. Jacques Heath (Lily May Peel)  female  35.0   \n",
       "5                                     Allen, Mr. William Henry    male  35.0   \n",
       "\n",
       "             SibSp  Parch            Ticket     Fare Cabin Embarked  \n",
       "PassengerId                                                          \n",
       "1                1      0         A/5 21171   7.2500   NaN        S  \n",
       "2                1      0          PC 17599  71.2833   C85        C  \n",
       "3                0      0  STON/O2. 3101282   7.9250   NaN        S  \n",
       "4                1      0            113803  53.1000  C123        S  \n",
       "5                0      0            373450   8.0500   NaN        S  "
      ]
     },
     "execution_count": 3,
     "metadata": {},
     "output_type": "execute_result"
    }
   ],
   "source": [
    "data.head()"
   ]
  },
  {
   "cell_type": "code",
   "execution_count": 4,
   "id": "201f07ed-4870-4580-8881-d58ef4ffef47",
   "metadata": {},
   "outputs": [
    {
     "data": {
      "text/plain": [
       "(891, 11)"
      ]
     },
     "execution_count": 4,
     "metadata": {},
     "output_type": "execute_result"
    }
   ],
   "source": [
    "data.shape"
   ]
  },
  {
   "cell_type": "code",
   "execution_count": 5,
   "id": "93e4d31e-f36b-42fe-bba8-6864f1b155a0",
   "metadata": {},
   "outputs": [
    {
     "data": {
      "text/plain": [
       "Survived      0\n",
       "Pclass        0\n",
       "Name          0\n",
       "Sex           0\n",
       "Age         177\n",
       "SibSp         0\n",
       "Parch         0\n",
       "Ticket        0\n",
       "Fare          0\n",
       "Cabin       687\n",
       "Embarked      2\n",
       "dtype: int64"
      ]
     },
     "execution_count": 5,
     "metadata": {},
     "output_type": "execute_result"
    }
   ],
   "source": [
    "data.isna().sum()"
   ]
  },
  {
   "cell_type": "code",
   "execution_count": 6,
   "id": "a8431de3-c36b-4562-8af5-376c1d368c71",
   "metadata": {},
   "outputs": [],
   "source": [
    "for i in['Age']: \n",
    "    data[i] = data[i].fillna(data[i].median())"
   ]
  },
  {
   "cell_type": "code",
   "execution_count": 7,
   "id": "38b0395e-8231-4c80-baeb-bb3c712e7180",
   "metadata": {},
   "outputs": [],
   "source": [
    "data = data.drop(['Cabin', 'Embarked'], axis = 1)"
   ]
  },
  {
   "cell_type": "code",
   "execution_count": 8,
   "id": "7ac5061b-e7b8-4f43-ad0a-055415235dfb",
   "metadata": {},
   "outputs": [
    {
     "data": {
      "text/plain": [
       "Survived    0\n",
       "Pclass      0\n",
       "Name        0\n",
       "Sex         0\n",
       "Age         0\n",
       "SibSp       0\n",
       "Parch       0\n",
       "Ticket      0\n",
       "Fare        0\n",
       "dtype: int64"
      ]
     },
     "execution_count": 8,
     "metadata": {},
     "output_type": "execute_result"
    }
   ],
   "source": [
    "data.isna().sum()"
   ]
  },
  {
   "cell_type": "code",
   "execution_count": 9,
   "id": "4054e54c-dc5e-4251-abde-01654d77a5f9",
   "metadata": {},
   "outputs": [
    {
     "data": {
      "text/html": [
       "<div>\n",
       "<style scoped>\n",
       "    .dataframe tbody tr th:only-of-type {\n",
       "        vertical-align: middle;\n",
       "    }\n",
       "\n",
       "    .dataframe tbody tr th {\n",
       "        vertical-align: top;\n",
       "    }\n",
       "\n",
       "    .dataframe thead th {\n",
       "        text-align: right;\n",
       "    }\n",
       "</style>\n",
       "<table border=\"1\" class=\"dataframe\">\n",
       "  <thead>\n",
       "    <tr style=\"text-align: right;\">\n",
       "      <th></th>\n",
       "      <th>Survived</th>\n",
       "      <th>Pclass</th>\n",
       "      <th>Name</th>\n",
       "      <th>Sex</th>\n",
       "      <th>Age</th>\n",
       "      <th>SibSp</th>\n",
       "      <th>Parch</th>\n",
       "      <th>Ticket</th>\n",
       "      <th>Fare</th>\n",
       "    </tr>\n",
       "    <tr>\n",
       "      <th>PassengerId</th>\n",
       "      <th></th>\n",
       "      <th></th>\n",
       "      <th></th>\n",
       "      <th></th>\n",
       "      <th></th>\n",
       "      <th></th>\n",
       "      <th></th>\n",
       "      <th></th>\n",
       "      <th></th>\n",
       "    </tr>\n",
       "  </thead>\n",
       "  <tbody>\n",
       "    <tr>\n",
       "      <th>1</th>\n",
       "      <td>0</td>\n",
       "      <td>3</td>\n",
       "      <td>Braund, Mr. Owen Harris</td>\n",
       "      <td>male</td>\n",
       "      <td>22.0</td>\n",
       "      <td>1</td>\n",
       "      <td>0</td>\n",
       "      <td>A/5 21171</td>\n",
       "      <td>7.2500</td>\n",
       "    </tr>\n",
       "    <tr>\n",
       "      <th>2</th>\n",
       "      <td>1</td>\n",
       "      <td>1</td>\n",
       "      <td>Cumings, Mrs. John Bradley (Florence Briggs Th...</td>\n",
       "      <td>female</td>\n",
       "      <td>38.0</td>\n",
       "      <td>1</td>\n",
       "      <td>0</td>\n",
       "      <td>PC 17599</td>\n",
       "      <td>71.2833</td>\n",
       "    </tr>\n",
       "    <tr>\n",
       "      <th>3</th>\n",
       "      <td>1</td>\n",
       "      <td>3</td>\n",
       "      <td>Heikkinen, Miss. Laina</td>\n",
       "      <td>female</td>\n",
       "      <td>26.0</td>\n",
       "      <td>0</td>\n",
       "      <td>0</td>\n",
       "      <td>STON/O2. 3101282</td>\n",
       "      <td>7.9250</td>\n",
       "    </tr>\n",
       "    <tr>\n",
       "      <th>4</th>\n",
       "      <td>1</td>\n",
       "      <td>1</td>\n",
       "      <td>Futrelle, Mrs. Jacques Heath (Lily May Peel)</td>\n",
       "      <td>female</td>\n",
       "      <td>35.0</td>\n",
       "      <td>1</td>\n",
       "      <td>0</td>\n",
       "      <td>113803</td>\n",
       "      <td>53.1000</td>\n",
       "    </tr>\n",
       "    <tr>\n",
       "      <th>5</th>\n",
       "      <td>0</td>\n",
       "      <td>3</td>\n",
       "      <td>Allen, Mr. William Henry</td>\n",
       "      <td>male</td>\n",
       "      <td>35.0</td>\n",
       "      <td>0</td>\n",
       "      <td>0</td>\n",
       "      <td>373450</td>\n",
       "      <td>8.0500</td>\n",
       "    </tr>\n",
       "  </tbody>\n",
       "</table>\n",
       "</div>"
      ],
      "text/plain": [
       "             Survived  Pclass  \\\n",
       "PassengerId                     \n",
       "1                   0       3   \n",
       "2                   1       1   \n",
       "3                   1       3   \n",
       "4                   1       1   \n",
       "5                   0       3   \n",
       "\n",
       "                                                          Name     Sex   Age  \\\n",
       "PassengerId                                                                    \n",
       "1                                      Braund, Mr. Owen Harris    male  22.0   \n",
       "2            Cumings, Mrs. John Bradley (Florence Briggs Th...  female  38.0   \n",
       "3                                       Heikkinen, Miss. Laina  female  26.0   \n",
       "4                 Futrelle, Mrs. Jacques Heath (Lily May Peel)  female  35.0   \n",
       "5                                     Allen, Mr. William Henry    male  35.0   \n",
       "\n",
       "             SibSp  Parch            Ticket     Fare  \n",
       "PassengerId                                           \n",
       "1                1      0         A/5 21171   7.2500  \n",
       "2                1      0          PC 17599  71.2833  \n",
       "3                0      0  STON/O2. 3101282   7.9250  \n",
       "4                1      0            113803  53.1000  \n",
       "5                0      0            373450   8.0500  "
      ]
     },
     "execution_count": 9,
     "metadata": {},
     "output_type": "execute_result"
    }
   ],
   "source": [
    "data.head()"
   ]
  },
  {
   "cell_type": "markdown",
   "id": "ba6ea8b3-6502-464b-b6c0-89dc015c68a0",
   "metadata": {},
   "source": [
    "# HANDLING OF OUTLIERS"
   ]
  },
  {
   "cell_type": "code",
   "execution_count": 10,
   "id": "91648796-a26a-46d1-a4e6-866c3a8c55f8",
   "metadata": {},
   "outputs": [
    {
     "data": {
      "image/png": "[encoded data removed]",
      "text/plain": [
       "<Figure size 640x480 with 1 Axes>"
      ]
     },
     "metadata": {},
     "output_type": "display_data"
    }
   ],
   "source": [
    "plt.boxplot(data['Age'])\n",
    "plt.show()"
   ]
  },
  {
   "cell_type": "code",
   "execution_count": 11,
   "id": "7b65fcf0-1864-4baa-9d48-ae09822f5b16",
   "metadata": {},
   "outputs": [],
   "source": [
    "Q1 = np.percentile(data['Age'],25)"
   ]
  },
  {
   "cell_type": "code",
   "execution_count": 12,
   "id": "297e7738-26b3-4f16-9071-c029f530fbce",
   "metadata": {},
   "outputs": [],
   "source": [
    "Q3 = np.percentile(data['Age'],75)"
   ]
  },
  {
   "cell_type": "code",
   "execution_count": 13,
   "id": "84cedd26-b9b5-4e87-97b3-35dda69d041d",
   "metadata": {},
   "outputs": [],
   "source": [
    "IQR = Q3 - Q1"
   ]
  },
  {
   "cell_type": "code",
   "execution_count": 14,
   "id": "d1f6be4e-ee52-4f73-8c36-e35c986784d3",
   "metadata": {},
   "outputs": [],
   "source": [
    "lower_limit = Q1 - 1.5*IQR\n",
    "upper_limit = Q3 + 1.5*IQR"
   ]
  },
  {
   "cell_type": "code",
   "execution_count": 15,
   "id": "bb9f6415-7f8c-4392-bc55-ecfa1b685fa9",
   "metadata": {},
   "outputs": [
    {
     "data": {
      "text/plain": [
       "2.5"
      ]
     },
     "execution_count": 15,
     "metadata": {},
     "output_type": "execute_result"
    }
   ],
   "source": [
    "lower_limit"
   ]
  },
  {
   "cell_type": "code",
   "execution_count": 16,
   "id": "d3fb46d1-4616-4f21-9669-e7bb60be9b86",
   "metadata": {},
   "outputs": [
    {
     "data": {
      "text/plain": [
       "54.5"
      ]
     },
     "execution_count": 16,
     "metadata": {},
     "output_type": "execute_result"
    }
   ],
   "source": [
    "upper_limit"
   ]
  },
  {
   "cell_type": "code",
   "execution_count": 17,
   "id": "6f5d07fd-b463-4a23-8cff-30ba63c58094",
   "metadata": {},
   "outputs": [],
   "source": [
    "outlier =[]\n",
    "for x in data['Age']:\n",
    "    if x>upper_limit or x<lower_limit:\n",
    "        outlier.append(x)"
   ]
  },
  {
   "cell_type": "code",
   "execution_count": 18,
   "id": "9abfb8ac-af53-4553-b58e-d4168a9321b6",
   "metadata": {},
   "outputs": [
    {
     "data": {
      "text/plain": [
       "[2.0,\n",
       " 58.0,\n",
       " 55.0,\n",
       " 2.0,\n",
       " 66.0,\n",
       " 65.0,\n",
       " 0.83,\n",
       " 59.0,\n",
       " 71.0,\n",
       " 70.5,\n",
       " 2.0,\n",
       " 55.5,\n",
       " 1.0,\n",
       " 61.0,\n",
       " 1.0,\n",
       " 56.0,\n",
       " 1.0,\n",
       " 58.0,\n",
       " 2.0,\n",
       " 59.0,\n",
       " 62.0,\n",
       " 58.0,\n",
       " 63.0,\n",
       " 65.0,\n",
       " 2.0,\n",
       " 0.92,\n",
       " 61.0,\n",
       " 2.0,\n",
       " 60.0,\n",
       " 1.0,\n",
       " 1.0,\n",
       " 64.0,\n",
       " 65.0,\n",
       " 56.0,\n",
       " 0.75,\n",
       " 2.0,\n",
       " 63.0,\n",
       " 58.0,\n",
       " 55.0,\n",
       " 71.0,\n",
       " 2.0,\n",
       " 64.0,\n",
       " 62.0,\n",
       " 62.0,\n",
       " 60.0,\n",
       " 61.0,\n",
       " 57.0,\n",
       " 80.0,\n",
       " 2.0,\n",
       " 0.75,\n",
       " 56.0,\n",
       " 58.0,\n",
       " 70.0,\n",
       " 60.0,\n",
       " 60.0,\n",
       " 70.0,\n",
       " 0.67,\n",
       " 57.0,\n",
       " 1.0,\n",
       " 0.42,\n",
       " 2.0,\n",
       " 1.0,\n",
       " 62.0,\n",
       " 0.83,\n",
       " 74.0,\n",
       " 56.0]"
      ]
     },
     "execution_count": 18,
     "metadata": {},
     "output_type": "execute_result"
    }
   ],
   "source": [
    "outlier"
   ]
  },
  {
   "cell_type": "code",
   "execution_count": 19,
   "id": "ad8a27c2-c9c6-439a-abd3-c8e77c41e24d",
   "metadata": {},
   "outputs": [
    {
     "data": {
      "text/plain": [
       "Index([ 12,  16,  34,  55,  95,  97, 117, 153, 171, 175, 196, 233, 253, 269,\n",
       "       276, 281, 327, 367, 439, 457, 468, 484, 488, 493, 494, 546, 556, 571,\n",
       "       588, 626, 627, 631, 648, 660, 673, 685, 695, 746, 773, 830, 852, 880],\n",
       "      dtype='int64', name='PassengerId')"
      ]
     },
     "execution_count": 19,
     "metadata": {},
     "output_type": "execute_result"
    }
   ],
   "source": [
    "ind = data['Age']>upper_limit\n",
    "data.loc[ind].index"
   ]
  },
  {
   "cell_type": "code",
   "execution_count": 20,
   "id": "dfda2895-8dbd-4bb7-b8ae-8852d5c11523",
   "metadata": {},
   "outputs": [],
   "source": [
    "data.drop([ 12,  16,  34,  55,  95,  97, 117, 153, 171, 175, 196, 233, 253, 269,\n",
    "       276, 281, 327, 367, 439, 457, 468, 484, 488, 493, 494, 546, 556, 571,\n",
    "       588, 626, 627, 631, 648, 660, 673, 685, 695, 746, 773, 830, 852, 880], inplace = True)"
   ]
  },
  {
   "cell_type": "code",
   "execution_count": 21,
   "id": "92a4ff27-af81-463c-b9b3-639a44c2adc9",
   "metadata": {},
   "outputs": [
    {
     "data": {
      "text/plain": [
       "(849, 9)"
      ]
     },
     "execution_count": 21,
     "metadata": {},
     "output_type": "execute_result"
    }
   ],
   "source": [
    "data.shape"
   ]
  },
  {
   "cell_type": "code",
   "execution_count": 22,
   "id": "99232214-7f41-42a5-b9d4-0ebcaa1a3914",
   "metadata": {},
   "outputs": [
    {
     "data": {
      "image/png": "[encoded data removed]",
      "text/plain": [
       "<Figure size 640x480 with 1 Axes>"
      ]
     },
     "metadata": {},
     "output_type": "display_data"
    }
   ],
   "source": [
    "plt.boxplot(data['SibSp'])\n",
    "plt.show()"
   ]
  },
  {
   "cell_type": "code",
   "execution_count": 23,
   "id": "f606acd5-f85d-4646-ad26-3707abcbd5ae",
   "metadata": {},
   "outputs": [],
   "source": [
    "Q1 = np.percentile(data['SibSp'],25)\n",
    "Q3 = np.percentile(data['SibSp'],75)\n",
    "IQR = Q3 - Q1\n",
    "lower_limit = Q1 - 1.5*IQR\n",
    "upper_limit = Q3 + 1.5*IQR"
   ]
  },
  {
   "cell_type": "code",
   "execution_count": 24,
   "id": "60ebbd3c-2617-4bb7-9450-46684a3a4ea0",
   "metadata": {},
   "outputs": [
    {
     "data": {
      "text/plain": [
       "-1.5"
      ]
     },
     "execution_count": 24,
     "metadata": {},
     "output_type": "execute_result"
    }
   ],
   "source": [
    "lower_limit"
   ]
  },
  {
   "cell_type": "code",
   "execution_count": 25,
   "id": "3aab6e9b-face-4e2f-9818-953fe5f2dbf2",
   "metadata": {},
   "outputs": [
    {
     "data": {
      "text/plain": [
       "2.5"
      ]
     },
     "execution_count": 25,
     "metadata": {},
     "output_type": "execute_result"
    }
   ],
   "source": [
    "upper_limit"
   ]
  },
  {
   "cell_type": "code",
   "execution_count": 26,
   "id": "b8b2f5c3-c145-4e72-8cd5-dbb90bcf565b",
   "metadata": {},
   "outputs": [],
   "source": [
    "outlier =[]\n",
    "for x in data['SibSp']:\n",
    "    if x>upper_limit or x<lower_limit:\n",
    "        outlier.append(x)"
   ]
  },
  {
   "cell_type": "code",
   "execution_count": 27,
   "id": "c2b14d26-e3bb-491f-a338-067d09401e3b",
   "metadata": {},
   "outputs": [
    {
     "data": {
      "text/plain": [
       "[3,\n",
       " 4,\n",
       " 3,\n",
       " 3,\n",
       " 4,\n",
       " 5,\n",
       " 3,\n",
       " 4,\n",
       " 5,\n",
       " 3,\n",
       " 3,\n",
       " 4,\n",
       " 8,\n",
       " 4,\n",
       " 4,\n",
       " 3,\n",
       " 8,\n",
       " 4,\n",
       " 8,\n",
       " 3,\n",
       " 4,\n",
       " 4,\n",
       " 4,\n",
       " 4,\n",
       " 8,\n",
       " 3,\n",
       " 3,\n",
       " 5,\n",
       " 3,\n",
       " 5,\n",
       " 3,\n",
       " 4,\n",
       " 4,\n",
       " 3,\n",
       " 3,\n",
       " 5,\n",
       " 4,\n",
       " 3,\n",
       " 4,\n",
       " 8,\n",
       " 4,\n",
       " 3,\n",
       " 4,\n",
       " 8,\n",
       " 4,\n",
       " 8]"
      ]
     },
     "execution_count": 27,
     "metadata": {},
     "output_type": "execute_result"
    }
   ],
   "source": [
    "outlier"
   ]
  },
  {
   "cell_type": "code",
   "execution_count": 28,
   "id": "e613add5-ff3d-45a8-8f5a-15d37c5663e0",
   "metadata": {},
   "outputs": [
    {
     "data": {
      "text/plain": [
       "Index([  8,  17,  25,  28,  51,  60,  64,  69,  72,  86,  89, 120, 160, 165,\n",
       "       172, 177, 181, 183, 202, 230, 234, 262, 267, 279, 325, 342, 375, 387,\n",
       "       410, 481, 486, 542, 543, 635, 643, 684, 687, 727, 788, 793, 814, 820,\n",
       "       825, 847, 851, 864],\n",
       "      dtype='int64', name='PassengerId')"
      ]
     },
     "execution_count": 28,
     "metadata": {},
     "output_type": "execute_result"
    }
   ],
   "source": [
    "ind = data['SibSp']>upper_limit\n",
    "data.loc[ind].index"
   ]
  },
  {
   "cell_type": "code",
   "execution_count": 29,
   "id": "5a755c8e-56e1-4ade-bba1-7d509e35e820",
   "metadata": {},
   "outputs": [],
   "source": [
    "data.drop([  8,  17,  25,  28,  51,  60,  64,  69,  72,  86,  89, 120, 160, 165,\n",
    "       172, 177, 181, 183, 202, 230, 234, 262, 267, 279, 325, 342, 375, 387,\n",
    "       410, 481, 486, 542, 543, 635, 643, 684, 687, 727, 788, 793, 814, 820,\n",
    "       825, 847, 851, 864], inplace = True)"
   ]
  },
  {
   "cell_type": "code",
   "execution_count": 30,
   "id": "b24f3941-7048-4eb0-8fab-5a5bd85a531d",
   "metadata": {},
   "outputs": [
    {
     "data": {
      "text/plain": [
       "(803, 9)"
      ]
     },
     "execution_count": 30,
     "metadata": {},
     "output_type": "execute_result"
    }
   ],
   "source": [
    "data.shape"
   ]
  },
  {
   "cell_type": "code",
   "execution_count": 31,
   "id": "d06e1dda-0d69-44d6-a904-223319aca1cb",
   "metadata": {},
   "outputs": [
    {
     "data": {
      "image/png": "[encoded data removed]",
      "text/plain": [
       "<Figure size 640x480 with 1 Axes>"
      ]
     },
     "metadata": {},
     "output_type": "display_data"
    }
   ],
   "source": [
    "plt.boxplot(data['Fare'])\n",
    "plt.show()"
   ]
  },
  {
   "cell_type": "code",
   "execution_count": 32,
   "id": "dcd4a1f9-3545-43a1-a22d-4b15f20b089f",
   "metadata": {},
   "outputs": [],
   "source": [
    "Q1 = np.percentile(data['Fare'],25)\n",
    "Q3 = np.percentile(data['Fare'],75)\n",
    "IQR = Q3 - Q1\n",
    "lower_limit = Q1 - 1.5*IQR\n",
    "upper_limit = Q3 + 1.5*IQR"
   ]
  },
  {
   "cell_type": "code",
   "execution_count": 33,
   "id": "2a1d707c-5c5e-4b0d-8b7f-910ed8e5ab74",
   "metadata": {},
   "outputs": [
    {
     "data": {
      "text/plain": [
       "-21.997999999999998"
      ]
     },
     "execution_count": 33,
     "metadata": {},
     "output_type": "execute_result"
    }
   ],
   "source": [
    "lower_limit"
   ]
  },
  {
   "cell_type": "code",
   "execution_count": 34,
   "id": "f02cbc67-6a2d-4be1-ba65-e08acf931198",
   "metadata": {},
   "outputs": [
    {
     "data": {
      "text/plain": [
       "57.7188"
      ]
     },
     "execution_count": 34,
     "metadata": {},
     "output_type": "execute_result"
    }
   ],
   "source": [
    "upper_limit"
   ]
  },
  {
   "cell_type": "code",
   "execution_count": 35,
   "id": "ddf057ce-e30a-440b-9621-9a9cbf2cee15",
   "metadata": {},
   "outputs": [],
   "source": [
    "outlier =[]\n",
    "for x in data['Fare']:\n",
    "    if x>upper_limit or x<lower_limit:\n",
    "        outlier.append(x)"
   ]
  },
  {
   "cell_type": "code",
   "execution_count": 37,
   "id": "380363ed-2b6a-4309-8485-d07f39928fe3",
   "metadata": {},
   "outputs": [
    {
     "data": {
      "text/plain": [
       "[71.2833,\n",
       " 146.5208,\n",
       " 82.1708,\n",
       " 76.7292,\n",
       " 80.0,\n",
       " 83.475,\n",
       " 73.5,\n",
       " 61.175,\n",
       " 63.3583,\n",
       " 77.2875,\n",
       " 247.5208,\n",
       " 73.5,\n",
       " 77.2875,\n",
       " 79.2,\n",
       " 66.6,\n",
       " 61.3792,\n",
       " 113.275,\n",
       " 76.2917,\n",
       " 90.0,\n",
       " 83.475,\n",
       " 90.0,\n",
       " 79.2,\n",
       " 86.5,\n",
       " 512.3292,\n",
       " 79.65,\n",
       " 135.6333,\n",
       " 78.85,\n",
       " 91.0792,\n",
       " 151.55,\n",
       " 247.5208,\n",
       " 151.55,\n",
       " 110.8833,\n",
       " 108.9,\n",
       " 83.1583,\n",
       " 262.375,\n",
       " 164.8667,\n",
       " 134.5,\n",
       " 135.6333,\n",
       " 57.9792,\n",
       " 153.4625,\n",
       " 133.65,\n",
       " 66.6,\n",
       " 134.5,\n",
       " 69.3,\n",
       " 135.6333,\n",
       " 82.1708,\n",
       " 211.5,\n",
       " 227.525,\n",
       " 73.5,\n",
       " 120.0,\n",
       " 113.275,\n",
       " 90.0,\n",
       " 120.0,\n",
       " 81.8583,\n",
       " 89.1042,\n",
       " 91.0792,\n",
       " 90.0,\n",
       " 78.2667,\n",
       " 151.55,\n",
       " 86.5,\n",
       " 108.9,\n",
       " 59.4,\n",
       " 93.5,\n",
       " 57.9792,\n",
       " 221.7792,\n",
       " 106.425,\n",
       " 71.0,\n",
       " 106.425,\n",
       " 110.8833,\n",
       " 227.525,\n",
       " 79.65,\n",
       " 110.8833,\n",
       " 79.65,\n",
       " 78.2667,\n",
       " 153.4625,\n",
       " 65.0,\n",
       " 77.9583,\n",
       " 69.3,\n",
       " 76.7292,\n",
       " 73.5,\n",
       " 133.65,\n",
       " 73.5,\n",
       " 512.3292,\n",
       " 76.7292,\n",
       " 211.3375,\n",
       " 110.8833,\n",
       " 227.525,\n",
       " 151.55,\n",
       " 227.525,\n",
       " 211.3375,\n",
       " 512.3292,\n",
       " 78.85,\n",
       " 262.375,\n",
       " 65.0,\n",
       " 86.5,\n",
       " 120.0,\n",
       " 77.9583,\n",
       " 211.3375,\n",
       " 79.2,\n",
       " 120.0,\n",
       " 93.5,\n",
       " 83.1583,\n",
       " 89.1042,\n",
       " 164.8667]"
      ]
     },
     "execution_count": 37,
     "metadata": {},
     "output_type": "execute_result"
    }
   ],
   "source": [
    "outlier"
   ]
  },
  {
   "cell_type": "code",
   "execution_count": 38,
   "id": "090149c2-460f-46dc-a9f3-c5b1f5a16676",
   "metadata": {},
   "outputs": [
    {
     "data": {
      "text/plain": [
       "Index([  2,  32,  35,  53,  62,  63,  73,  93,  98, 103,\n",
       "       ...\n",
       "       760, 764, 766, 780, 790, 803, 821, 836, 850, 857],\n",
       "      dtype='int64', name='PassengerId', length=104)"
      ]
     },
     "execution_count": 38,
     "metadata": {},
     "output_type": "execute_result"
    }
   ],
   "source": [
    "ind = data['Fare']>upper_limit\n",
    "data.loc[ind].index"
   ]
  },
  {
   "cell_type": "code",
   "execution_count": 40,
   "id": "e62efc9f-e7ef-48a9-b0f3-fc3ad3bc4709",
   "metadata": {},
   "outputs": [
    {
     "data": {
      "text/plain": [
       "PassengerId\n",
       "1      False\n",
       "2       True\n",
       "3      False\n",
       "4      False\n",
       "5      False\n",
       "       ...  \n",
       "887    False\n",
       "888    False\n",
       "889    False\n",
       "890    False\n",
       "891    False\n",
       "Name: Fare, Length: 803, dtype: bool"
      ]
     },
     "execution_count": 40,
     "metadata": {},
     "output_type": "execute_result"
    }
   ],
   "source": [
    "ind"
   ]
  },
  {
   "cell_type": "markdown",
   "id": "0201a4d4-8a87-41cd-a9d0-fbcad3bcef88",
   "metadata": {},
   "source": [
    "# MIN MAX SCALING"
   ]
  },
  {
   "cell_type": "code",
   "execution_count": 41,
   "id": "18ba6e39-eb09-42fd-a7ed-edbcc85f5976",
   "metadata": {},
   "outputs": [],
   "source": [
    "x = data.drop('Survived', axis = 1)"
   ]
  },
  {
   "cell_type": "code",
   "execution_count": 42,
   "id": "3052cf79-9fa7-4429-a3cd-77d6fc27b643",
   "metadata": {},
   "outputs": [],
   "source": [
    "y = data['Survived']"
   ]
  },
  {
   "cell_type": "code",
   "execution_count": 43,
   "id": "39764072-56e0-4622-9104-8201a04c9bd3",
   "metadata": {},
   "outputs": [
    {
     "data": {
      "text/html": [
       "<div>\n",
       "<style scoped>\n",
       "    .dataframe tbody tr th:only-of-type {\n",
       "        vertical-align: middle;\n",
       "    }\n",
       "\n",
       "    .dataframe tbody tr th {\n",
       "        vertical-align: top;\n",
       "    }\n",
       "\n",
       "    .dataframe thead th {\n",
       "        text-align: right;\n",
       "    }\n",
       "</style>\n",
       "<table border=\"1\" class=\"dataframe\">\n",
       "  <thead>\n",
       "    <tr style=\"text-align: right;\">\n",
       "      <th></th>\n",
       "      <th>Pclass</th>\n",
       "      <th>Name</th>\n",
       "      <th>Sex</th>\n",
       "      <th>Age</th>\n",
       "      <th>SibSp</th>\n",
       "      <th>Parch</th>\n",
       "      <th>Ticket</th>\n",
       "      <th>Fare</th>\n",
       "    </tr>\n",
       "    <tr>\n",
       "      <th>PassengerId</th>\n",
       "      <th></th>\n",
       "      <th></th>\n",
       "      <th></th>\n",
       "      <th></th>\n",
       "      <th></th>\n",
       "      <th></th>\n",
       "      <th></th>\n",
       "      <th></th>\n",
       "    </tr>\n",
       "  </thead>\n",
       "  <tbody>\n",
       "    <tr>\n",
       "      <th>1</th>\n",
       "      <td>3</td>\n",
       "      <td>Braund, Mr. Owen Harris</td>\n",
       "      <td>male</td>\n",
       "      <td>22.0</td>\n",
       "      <td>1</td>\n",
       "      <td>0</td>\n",
       "      <td>A/5 21171</td>\n",
       "      <td>7.2500</td>\n",
       "    </tr>\n",
       "    <tr>\n",
       "      <th>2</th>\n",
       "      <td>1</td>\n",
       "      <td>Cumings, Mrs. John Bradley (Florence Briggs Th...</td>\n",
       "      <td>female</td>\n",
       "      <td>38.0</td>\n",
       "      <td>1</td>\n",
       "      <td>0</td>\n",
       "      <td>PC 17599</td>\n",
       "      <td>71.2833</td>\n",
       "    </tr>\n",
       "    <tr>\n",
       "      <th>3</th>\n",
       "      <td>3</td>\n",
       "      <td>Heikkinen, Miss. Laina</td>\n",
       "      <td>female</td>\n",
       "      <td>26.0</td>\n",
       "      <td>0</td>\n",
       "      <td>0</td>\n",
       "      <td>STON/O2. 3101282</td>\n",
       "      <td>7.9250</td>\n",
       "    </tr>\n",
       "    <tr>\n",
       "      <th>4</th>\n",
       "      <td>1</td>\n",
       "      <td>Futrelle, Mrs. Jacques Heath (Lily May Peel)</td>\n",
       "      <td>female</td>\n",
       "      <td>35.0</td>\n",
       "      <td>1</td>\n",
       "      <td>0</td>\n",
       "      <td>113803</td>\n",
       "      <td>53.1000</td>\n",
       "    </tr>\n",
       "    <tr>\n",
       "      <th>5</th>\n",
       "      <td>3</td>\n",
       "      <td>Allen, Mr. William Henry</td>\n",
       "      <td>male</td>\n",
       "      <td>35.0</td>\n",
       "      <td>0</td>\n",
       "      <td>0</td>\n",
       "      <td>373450</td>\n",
       "      <td>8.0500</td>\n",
       "    </tr>\n",
       "    <tr>\n",
       "      <th>...</th>\n",
       "      <td>...</td>\n",
       "      <td>...</td>\n",
       "      <td>...</td>\n",
       "      <td>...</td>\n",
       "      <td>...</td>\n",
       "      <td>...</td>\n",
       "      <td>...</td>\n",
       "      <td>...</td>\n",
       "    </tr>\n",
       "    <tr>\n",
       "      <th>887</th>\n",
       "      <td>2</td>\n",
       "      <td>Montvila, Rev. Juozas</td>\n",
       "      <td>male</td>\n",
       "      <td>27.0</td>\n",
       "      <td>0</td>\n",
       "      <td>0</td>\n",
       "      <td>211536</td>\n",
       "      <td>13.0000</td>\n",
       "    </tr>\n",
       "    <tr>\n",
       "      <th>888</th>\n",
       "      <td>1</td>\n",
       "      <td>Graham, Miss. Margaret Edith</td>\n",
       "      <td>female</td>\n",
       "      <td>19.0</td>\n",
       "      <td>0</td>\n",
       "      <td>0</td>\n",
       "      <td>112053</td>\n",
       "      <td>30.0000</td>\n",
       "    </tr>\n",
       "    <tr>\n",
       "      <th>889</th>\n",
       "      <td>3</td>\n",
       "      <td>Johnston, Miss. Catherine Helen \"Carrie\"</td>\n",
       "      <td>female</td>\n",
       "      <td>28.0</td>\n",
       "      <td>1</td>\n",
       "      <td>2</td>\n",
       "      <td>W./C. 6607</td>\n",
       "      <td>23.4500</td>\n",
       "    </tr>\n",
       "    <tr>\n",
       "      <th>890</th>\n",
       "      <td>1</td>\n",
       "      <td>Behr, Mr. Karl Howell</td>\n",
       "      <td>male</td>\n",
       "      <td>26.0</td>\n",
       "      <td>0</td>\n",
       "      <td>0</td>\n",
       "      <td>111369</td>\n",
       "      <td>30.0000</td>\n",
       "    </tr>\n",
       "    <tr>\n",
       "      <th>891</th>\n",
       "      <td>3</td>\n",
       "      <td>Dooley, Mr. Patrick</td>\n",
       "      <td>male</td>\n",
       "      <td>32.0</td>\n",
       "      <td>0</td>\n",
       "      <td>0</td>\n",
       "      <td>370376</td>\n",
       "      <td>7.7500</td>\n",
       "    </tr>\n",
       "  </tbody>\n",
       "</table>\n",
       "<p>803 rows × 8 columns</p>\n",
       "</div>"
      ],
      "text/plain": [
       "             Pclass                                               Name  \\\n",
       "PassengerId                                                              \n",
       "1                 3                            Braund, Mr. Owen Harris   \n",
       "2                 1  Cumings, Mrs. John Bradley (Florence Briggs Th...   \n",
       "3                 3                             Heikkinen, Miss. Laina   \n",
       "4                 1       Futrelle, Mrs. Jacques Heath (Lily May Peel)   \n",
       "5                 3                           Allen, Mr. William Henry   \n",
       "...             ...                                                ...   \n",
       "887               2                              Montvila, Rev. Juozas   \n",
       "888               1                       Graham, Miss. Margaret Edith   \n",
       "889               3           Johnston, Miss. Catherine Helen \"Carrie\"   \n",
       "890               1                              Behr, Mr. Karl Howell   \n",
       "891               3                                Dooley, Mr. Patrick   \n",
       "\n",
       "                Sex   Age  SibSp  Parch            Ticket     Fare  \n",
       "PassengerId                                                         \n",
       "1              male  22.0      1      0         A/5 21171   7.2500  \n",
       "2            female  38.0      1      0          PC 17599  71.2833  \n",
       "3            female  26.0      0      0  STON/O2. 3101282   7.9250  \n",
       "4            female  35.0      1      0            113803  53.1000  \n",
       "5              male  35.0      0      0            373450   8.0500  \n",
       "...             ...   ...    ...    ...               ...      ...  \n",
       "887            male  27.0      0      0            211536  13.0000  \n",
       "888          female  19.0      0      0            112053  30.0000  \n",
       "889          female  28.0      1      2        W./C. 6607  23.4500  \n",
       "890            male  26.0      0      0            111369  30.0000  \n",
       "891            male  32.0      0      0            370376   7.7500  \n",
       "\n",
       "[803 rows x 8 columns]"
      ]
     },
     "execution_count": 43,
     "metadata": {},
     "output_type": "execute_result"
    }
   ],
   "source": [
    "x"
   ]
  },
  {
   "cell_type": "code",
   "execution_count": 44,
   "id": "30b48fbc-fd31-49f0-8dec-c8f089b390f6",
   "metadata": {},
   "outputs": [
    {
     "data": {
      "text/plain": [
       "PassengerId\n",
       "1      0\n",
       "2      1\n",
       "3      1\n",
       "4      1\n",
       "5      0\n",
       "      ..\n",
       "887    0\n",
       "888    1\n",
       "889    0\n",
       "890    1\n",
       "891    0\n",
       "Name: Survived, Length: 803, dtype: int64"
      ]
     },
     "execution_count": 44,
     "metadata": {},
     "output_type": "execute_result"
    }
   ],
   "source": [
    "y"
   ]
  },
  {
   "cell_type": "code",
   "execution_count": 45,
   "id": "46de7028-b997-416f-9b4b-4042b3f1f86c",
   "metadata": {},
   "outputs": [
    {
     "data": {
      "text/plain": [
       "(803, 8)"
      ]
     },
     "execution_count": 45,
     "metadata": {},
     "output_type": "execute_result"
    }
   ],
   "source": [
    "x.shape"
   ]
  },
  {
   "cell_type": "code",
   "execution_count": 46,
   "id": "2377c53e-9a01-4799-9516-4da1d4d2df9d",
   "metadata": {},
   "outputs": [
    {
     "data": {
      "text/plain": [
       "803"
      ]
     },
     "execution_count": 46,
     "metadata": {},
     "output_type": "execute_result"
    }
   ],
   "source": [
    "x.Name.nunique()"
   ]
  },
  {
   "cell_type": "code",
   "execution_count": 47,
   "id": "e871c91c-0406-4469-b5f9-e0bd117a4a1b",
   "metadata": {},
   "outputs": [
    {
     "data": {
      "text/plain": [
       "645"
      ]
     },
     "execution_count": 47,
     "metadata": {},
     "output_type": "execute_result"
    }
   ],
   "source": [
    "x.Ticket.nunique()"
   ]
  },
  {
   "cell_type": "code",
   "execution_count": 49,
   "id": "3f556364-cd22-460d-ba7c-db8d9ab86e24",
   "metadata": {},
   "outputs": [],
   "source": [
    "x = x.drop('Name', axis = 1)"
   ]
  },
  {
   "cell_type": "code",
   "execution_count": 50,
   "id": "d4288748-c969-4ff3-8d5f-93a1b3cfed98",
   "metadata": {},
   "outputs": [],
   "source": [
    "x = x.drop('Ticket', axis = 1)"
   ]
  },
  {
   "cell_type": "code",
   "execution_count": 51,
   "id": "2ceb3e67-cad4-4bf8-b233-38b78d45284b",
   "metadata": {},
   "outputs": [
    {
     "data": {
      "text/html": [
       "<div>\n",
       "<style scoped>\n",
       "    .dataframe tbody tr th:only-of-type {\n",
       "        vertical-align: middle;\n",
       "    }\n",
       "\n",
       "    .dataframe tbody tr th {\n",
       "        vertical-align: top;\n",
       "    }\n",
       "\n",
       "    .dataframe thead th {\n",
       "        text-align: right;\n",
       "    }\n",
       "</style>\n",
       "<table border=\"1\" class=\"dataframe\">\n",
       "  <thead>\n",
       "    <tr style=\"text-align: right;\">\n",
       "      <th></th>\n",
       "      <th>Pclass</th>\n",
       "      <th>Sex</th>\n",
       "      <th>Age</th>\n",
       "      <th>SibSp</th>\n",
       "      <th>Parch</th>\n",
       "      <th>Fare</th>\n",
       "    </tr>\n",
       "    <tr>\n",
       "      <th>PassengerId</th>\n",
       "      <th></th>\n",
       "      <th></th>\n",
       "      <th></th>\n",
       "      <th></th>\n",
       "      <th></th>\n",
       "      <th></th>\n",
       "    </tr>\n",
       "  </thead>\n",
       "  <tbody>\n",
       "    <tr>\n",
       "      <th>1</th>\n",
       "      <td>3</td>\n",
       "      <td>male</td>\n",
       "      <td>22.0</td>\n",
       "      <td>1</td>\n",
       "      <td>0</td>\n",
       "      <td>7.2500</td>\n",
       "    </tr>\n",
       "    <tr>\n",
       "      <th>2</th>\n",
       "      <td>1</td>\n",
       "      <td>female</td>\n",
       "      <td>38.0</td>\n",
       "      <td>1</td>\n",
       "      <td>0</td>\n",
       "      <td>71.2833</td>\n",
       "    </tr>\n",
       "    <tr>\n",
       "      <th>3</th>\n",
       "      <td>3</td>\n",
       "      <td>female</td>\n",
       "      <td>26.0</td>\n",
       "      <td>0</td>\n",
       "      <td>0</td>\n",
       "      <td>7.9250</td>\n",
       "    </tr>\n",
       "    <tr>\n",
       "      <th>4</th>\n",
       "      <td>1</td>\n",
       "      <td>female</td>\n",
       "      <td>35.0</td>\n",
       "      <td>1</td>\n",
       "      <td>0</td>\n",
       "      <td>53.1000</td>\n",
       "    </tr>\n",
       "    <tr>\n",
       "      <th>5</th>\n",
       "      <td>3</td>\n",
       "      <td>male</td>\n",
       "      <td>35.0</td>\n",
       "      <td>0</td>\n",
       "      <td>0</td>\n",
       "      <td>8.0500</td>\n",
       "    </tr>\n",
       "  </tbody>\n",
       "</table>\n",
       "</div>"
      ],
      "text/plain": [
       "             Pclass     Sex   Age  SibSp  Parch     Fare\n",
       "PassengerId                                             \n",
       "1                 3    male  22.0      1      0   7.2500\n",
       "2                 1  female  38.0      1      0  71.2833\n",
       "3                 3  female  26.0      0      0   7.9250\n",
       "4                 1  female  35.0      1      0  53.1000\n",
       "5                 3    male  35.0      0      0   8.0500"
      ]
     },
     "execution_count": 51,
     "metadata": {},
     "output_type": "execute_result"
    }
   ],
   "source": [
    "x.head ()"
   ]
  },
  {
   "cell_type": "code",
   "execution_count": 52,
   "id": "8fb0e69f-05e2-4127-af48-044cefe12f6b",
   "metadata": {},
   "outputs": [],
   "source": [
    "from sklearn.preprocessing import LabelEncoder\n",
    "label_encoder = LabelEncoder()\n",
    "x['Sex']=label_encoder.fit_transform(x['Sex'])"
   ]
  },
  {
   "cell_type": "code",
   "execution_count": 53,
   "id": "6740f627-b6e9-41b5-9711-9e428b35fb37",
   "metadata": {},
   "outputs": [
    {
     "data": {
      "text/html": [
       "<div>\n",
       "<style scoped>\n",
       "    .dataframe tbody tr th:only-of-type {\n",
       "        vertical-align: middle;\n",
       "    }\n",
       "\n",
       "    .dataframe tbody tr th {\n",
       "        vertical-align: top;\n",
       "    }\n",
       "\n",
       "    .dataframe thead th {\n",
       "        text-align: right;\n",
       "    }\n",
       "</style>\n",
       "<table border=\"1\" class=\"dataframe\">\n",
       "  <thead>\n",
       "    <tr style=\"text-align: right;\">\n",
       "      <th></th>\n",
       "      <th>Pclass</th>\n",
       "      <th>Sex</th>\n",
       "      <th>Age</th>\n",
       "      <th>SibSp</th>\n",
       "      <th>Parch</th>\n",
       "      <th>Fare</th>\n",
       "    </tr>\n",
       "    <tr>\n",
       "      <th>PassengerId</th>\n",
       "      <th></th>\n",
       "      <th></th>\n",
       "      <th></th>\n",
       "      <th></th>\n",
       "      <th></th>\n",
       "      <th></th>\n",
       "    </tr>\n",
       "  </thead>\n",
       "  <tbody>\n",
       "    <tr>\n",
       "      <th>1</th>\n",
       "      <td>3</td>\n",
       "      <td>1</td>\n",
       "      <td>22.0</td>\n",
       "      <td>1</td>\n",
       "      <td>0</td>\n",
       "      <td>7.2500</td>\n",
       "    </tr>\n",
       "    <tr>\n",
       "      <th>2</th>\n",
       "      <td>1</td>\n",
       "      <td>0</td>\n",
       "      <td>38.0</td>\n",
       "      <td>1</td>\n",
       "      <td>0</td>\n",
       "      <td>71.2833</td>\n",
       "    </tr>\n",
       "    <tr>\n",
       "      <th>3</th>\n",
       "      <td>3</td>\n",
       "      <td>0</td>\n",
       "      <td>26.0</td>\n",
       "      <td>0</td>\n",
       "      <td>0</td>\n",
       "      <td>7.9250</td>\n",
       "    </tr>\n",
       "    <tr>\n",
       "      <th>4</th>\n",
       "      <td>1</td>\n",
       "      <td>0</td>\n",
       "      <td>35.0</td>\n",
       "      <td>1</td>\n",
       "      <td>0</td>\n",
       "      <td>53.1000</td>\n",
       "    </tr>\n",
       "    <tr>\n",
       "      <th>5</th>\n",
       "      <td>3</td>\n",
       "      <td>1</td>\n",
       "      <td>35.0</td>\n",
       "      <td>0</td>\n",
       "      <td>0</td>\n",
       "      <td>8.0500</td>\n",
       "    </tr>\n",
       "  </tbody>\n",
       "</table>\n",
       "</div>"
      ],
      "text/plain": [
       "             Pclass  Sex   Age  SibSp  Parch     Fare\n",
       "PassengerId                                          \n",
       "1                 3    1  22.0      1      0   7.2500\n",
       "2                 1    0  38.0      1      0  71.2833\n",
       "3                 3    0  26.0      0      0   7.9250\n",
       "4                 1    0  35.0      1      0  53.1000\n",
       "5                 3    1  35.0      0      0   8.0500"
      ]
     },
     "execution_count": 53,
     "metadata": {},
     "output_type": "execute_result"
    }
   ],
   "source": [
    "x.head()"
   ]
  },
  {
   "cell_type": "code",
   "execution_count": 54,
   "id": "f0fba5ab-7fb9-4553-ba60-f86ce4c9d8cd",
   "metadata": {},
   "outputs": [],
   "source": [
    "from sklearn.preprocessing import MinMaxScaler\n",
    "min_max = MinMaxScaler(feature_range = (0,1))\n",
    "x = min_max.fit_transform(x)"
   ]
  },
  {
   "cell_type": "code",
   "execution_count": 55,
   "id": "531d10e7-7f45-4949-a8da-0685d65e7d27",
   "metadata": {},
   "outputs": [
    {
     "data": {
      "text/plain": [
       "numpy.ndarray"
      ]
     },
     "execution_count": 55,
     "metadata": {},
     "output_type": "execute_result"
    }
   ],
   "source": [
    "type (x)"
   ]
  },
  {
   "cell_type": "code",
   "execution_count": 56,
   "id": "9ef90c89-12cf-43d9-9da0-ab835e739859",
   "metadata": {},
   "outputs": [],
   "source": [
    "x=pd.DataFrame(x)"
   ]
  },
  {
   "cell_type": "code",
   "execution_count": 57,
   "id": "1b6487c4-c9e1-4584-870d-94a9dfc3d30d",
   "metadata": {},
   "outputs": [
    {
     "data": {
      "text/plain": [
       "pandas.core.frame.DataFrame"
      ]
     },
     "execution_count": 57,
     "metadata": {},
     "output_type": "execute_result"
    }
   ],
   "source": [
    "type (x)"
   ]
  },
  {
   "cell_type": "code",
   "execution_count": 58,
   "id": "eab67c65-0dc1-4891-ad54-39925ea612ae",
   "metadata": {},
   "outputs": [
    {
     "data": {
      "text/html": [
       "<div>\n",
       "<style scoped>\n",
       "    .dataframe tbody tr th:only-of-type {\n",
       "        vertical-align: middle;\n",
       "    }\n",
       "\n",
       "    .dataframe tbody tr th {\n",
       "        vertical-align: top;\n",
       "    }\n",
       "\n",
       "    .dataframe thead th {\n",
       "        text-align: right;\n",
       "    }\n",
       "</style>\n",
       "<table border=\"1\" class=\"dataframe\">\n",
       "  <thead>\n",
       "    <tr style=\"text-align: right;\">\n",
       "      <th></th>\n",
       "      <th>0</th>\n",
       "      <th>1</th>\n",
       "      <th>2</th>\n",
       "      <th>3</th>\n",
       "      <th>4</th>\n",
       "      <th>5</th>\n",
       "    </tr>\n",
       "  </thead>\n",
       "  <tbody>\n",
       "    <tr>\n",
       "      <th>count</th>\n",
       "      <td>803.000000</td>\n",
       "      <td>803.000000</td>\n",
       "      <td>803.000000</td>\n",
       "      <td>803.00000</td>\n",
       "      <td>803.000000</td>\n",
       "      <td>803.000000</td>\n",
       "    </tr>\n",
       "    <tr>\n",
       "      <th>mean</th>\n",
       "      <td>0.659402</td>\n",
       "      <td>0.647572</td>\n",
       "      <td>0.524510</td>\n",
       "      <td>0.16127</td>\n",
       "      <td>0.053134</td>\n",
       "      <td>0.059365</td>\n",
       "    </tr>\n",
       "    <tr>\n",
       "      <th>std</th>\n",
       "      <td>0.412698</td>\n",
       "      <td>0.478024</td>\n",
       "      <td>0.196170</td>\n",
       "      <td>0.26861</td>\n",
       "      <td>0.127912</td>\n",
       "      <td>0.095351</td>\n",
       "    </tr>\n",
       "    <tr>\n",
       "      <th>min</th>\n",
       "      <td>0.000000</td>\n",
       "      <td>0.000000</td>\n",
       "      <td>0.000000</td>\n",
       "      <td>0.00000</td>\n",
       "      <td>0.000000</td>\n",
       "      <td>0.000000</td>\n",
       "    </tr>\n",
       "    <tr>\n",
       "      <th>25%</th>\n",
       "      <td>0.500000</td>\n",
       "      <td>0.000000</td>\n",
       "      <td>0.421426</td>\n",
       "      <td>0.00000</td>\n",
       "      <td>0.000000</td>\n",
       "      <td>0.015412</td>\n",
       "    </tr>\n",
       "    <tr>\n",
       "      <th>50%</th>\n",
       "      <td>1.000000</td>\n",
       "      <td>1.000000</td>\n",
       "      <td>0.514744</td>\n",
       "      <td>0.00000</td>\n",
       "      <td>0.000000</td>\n",
       "      <td>0.025374</td>\n",
       "    </tr>\n",
       "    <tr>\n",
       "      <th>75%</th>\n",
       "      <td>1.000000</td>\n",
       "      <td>1.000000</td>\n",
       "      <td>0.626726</td>\n",
       "      <td>0.50000</td>\n",
       "      <td>0.000000</td>\n",
       "      <td>0.054311</td>\n",
       "    </tr>\n",
       "    <tr>\n",
       "      <th>max</th>\n",
       "      <td>1.000000</td>\n",
       "      <td>1.000000</td>\n",
       "      <td>1.000000</td>\n",
       "      <td>1.00000</td>\n",
       "      <td>1.000000</td>\n",
       "      <td>1.000000</td>\n",
       "    </tr>\n",
       "  </tbody>\n",
       "</table>\n",
       "</div>"
      ],
      "text/plain": [
       "                0           1           2          3           4           5\n",
       "count  803.000000  803.000000  803.000000  803.00000  803.000000  803.000000\n",
       "mean     0.659402    0.647572    0.524510    0.16127    0.053134    0.059365\n",
       "std      0.412698    0.478024    0.196170    0.26861    0.127912    0.095351\n",
       "min      0.000000    0.000000    0.000000    0.00000    0.000000    0.000000\n",
       "25%      0.500000    0.000000    0.421426    0.00000    0.000000    0.015412\n",
       "50%      1.000000    1.000000    0.514744    0.00000    0.000000    0.025374\n",
       "75%      1.000000    1.000000    0.626726    0.50000    0.000000    0.054311\n",
       "max      1.000000    1.000000    1.000000    1.00000    1.000000    1.000000"
      ]
     },
     "execution_count": 58,
     "metadata": {},
     "output_type": "execute_result"
    }
   ],
   "source": [
    "x.describe()"
   ]
  },
  {
   "cell_type": "code",
   "execution_count": 59,
   "id": "42a35181-3c5f-4cdb-a512-516b246106f6",
   "metadata": {},
   "outputs": [
    {
     "data": {
      "text/plain": [
       "RangeIndex(start=0, stop=6, step=1)"
      ]
     },
     "execution_count": 59,
     "metadata": {},
     "output_type": "execute_result"
    }
   ],
   "source": [
    "x.columns"
   ]
  },
  {
   "cell_type": "code",
   "execution_count": 60,
   "id": "02981308-4d87-4bda-b2ca-42d8ea62974c",
   "metadata": {},
   "outputs": [],
   "source": [
    "x.columns = ('Pclass','Sex','Age','SibSp','Parch','Fare')"
   ]
  },
  {
   "cell_type": "code",
   "execution_count": 61,
   "id": "bc33fc35-3b58-43d3-b329-9a516b6a1135",
   "metadata": {},
   "outputs": [
    {
     "data": {
      "text/html": [
       "<div>\n",
       "<style scoped>\n",
       "    .dataframe tbody tr th:only-of-type {\n",
       "        vertical-align: middle;\n",
       "    }\n",
       "\n",
       "    .dataframe tbody tr th {\n",
       "        vertical-align: top;\n",
       "    }\n",
       "\n",
       "    .dataframe thead th {\n",
       "        text-align: right;\n",
       "    }\n",
       "</style>\n",
       "<table border=\"1\" class=\"dataframe\">\n",
       "  <thead>\n",
       "    <tr style=\"text-align: right;\">\n",
       "      <th></th>\n",
       "      <th>Pclass</th>\n",
       "      <th>Sex</th>\n",
       "      <th>Age</th>\n",
       "      <th>SibSp</th>\n",
       "      <th>Parch</th>\n",
       "      <th>Fare</th>\n",
       "    </tr>\n",
       "  </thead>\n",
       "  <tbody>\n",
       "    <tr>\n",
       "      <th>0</th>\n",
       "      <td>1.0</td>\n",
       "      <td>1.0</td>\n",
       "      <td>0.402762</td>\n",
       "      <td>0.5</td>\n",
       "      <td>0.0</td>\n",
       "      <td>0.014151</td>\n",
       "    </tr>\n",
       "    <tr>\n",
       "      <th>1</th>\n",
       "      <td>0.0</td>\n",
       "      <td>0.0</td>\n",
       "      <td>0.701381</td>\n",
       "      <td>0.5</td>\n",
       "      <td>0.0</td>\n",
       "      <td>0.139136</td>\n",
       "    </tr>\n",
       "    <tr>\n",
       "      <th>2</th>\n",
       "      <td>1.0</td>\n",
       "      <td>0.0</td>\n",
       "      <td>0.477417</td>\n",
       "      <td>0.0</td>\n",
       "      <td>0.0</td>\n",
       "      <td>0.015469</td>\n",
       "    </tr>\n",
       "    <tr>\n",
       "      <th>3</th>\n",
       "      <td>0.0</td>\n",
       "      <td>0.0</td>\n",
       "      <td>0.645390</td>\n",
       "      <td>0.5</td>\n",
       "      <td>0.0</td>\n",
       "      <td>0.103644</td>\n",
       "    </tr>\n",
       "    <tr>\n",
       "      <th>4</th>\n",
       "      <td>1.0</td>\n",
       "      <td>1.0</td>\n",
       "      <td>0.645390</td>\n",
       "      <td>0.0</td>\n",
       "      <td>0.0</td>\n",
       "      <td>0.015713</td>\n",
       "    </tr>\n",
       "  </tbody>\n",
       "</table>\n",
       "</div>"
      ],
      "text/plain": [
       "   Pclass  Sex       Age  SibSp  Parch      Fare\n",
       "0     1.0  1.0  0.402762    0.5    0.0  0.014151\n",
       "1     0.0  0.0  0.701381    0.5    0.0  0.139136\n",
       "2     1.0  0.0  0.477417    0.0    0.0  0.015469\n",
       "3     0.0  0.0  0.645390    0.5    0.0  0.103644\n",
       "4     1.0  1.0  0.645390    0.0    0.0  0.015713"
      ]
     },
     "execution_count": 61,
     "metadata": {},
     "output_type": "execute_result"
    }
   ],
   "source": [
    "x.head()"
   ]
  },
  {
   "cell_type": "code",
   "execution_count": null,
   "id": "cb88726e-a168-429a-b8fb-a8132ea9fe09",
   "metadata": {},
   "outputs": [],
   "source": []
  }
 ],
 "metadata": {
  "kernelspec": {
   "display_name": "Python 3 (ipykernel)",
   "language": "python",
   "name": "python3"
  },
  "language_info": {
   "codemirror_mode": {
    "name": "ipython",
    "version": 3
   },
   "file_extension": ".py",
   "mimetype": "text/x-python",
   "name": "python",
   "nbconvert_exporter": "python",
   "pygments_lexer": "ipython3",
   "version": "3.12.4"
  }
 },
 "nbformat": 4,
 "nbformat_minor": 5
}
