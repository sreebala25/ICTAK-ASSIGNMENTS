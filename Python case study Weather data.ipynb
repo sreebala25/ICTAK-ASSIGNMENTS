{
 "cells": [
  {
   "cell_type": "code",
   "execution_count": 1,
   "id": "3832cf79-8b84-4e93-80a2-158479c870bd",
   "metadata": {},
   "outputs": [],
   "source": [
    "def calculate_average(data, attribute):\n",
    "  \"\"\"Calculates the average of a given attribute in the weather data.\"\"\"\n",
    "  total = sum(day[attribute] for day in data)\n",
    "  average = total / len(data)\n",
    "  return average\n"
   ]
  },
  {
   "cell_type": "code",
   "execution_count": 2,
   "id": "e63197b5-4e2c-44ae-8486-67956c422a96",
   "metadata": {},
   "outputs": [],
   "source": [
    "def determine_weather_condition(temperature, humidity):\n",
    "  \"\"\"Determines the weather condition based on temperature and humidity.\"\"\"\n",
    "  if temperature > 30 and humidity > 70:\n",
    "    return \"Hot and Humid\"\n",
    "  elif temperature > 25 and humidity > 50:\n",
    "    return \"Warm and Humid\"\n",
    "  elif temperature < 15 and humidity > 70:\n",
    "    return \"Cold and Humid\"\n",
    "  elif temperature < 10:\n",
    "    return \"Cold\"\n",
    "  else:\n",
    "    return \"Pleasant\"\n"
   ]
  },
  {
   "cell_type": "code",
   "execution_count": 3,
   "id": "6028325f-bb0e-4c70-b99b-c14d264625bc",
   "metadata": {},
   "outputs": [],
   "source": [
    "def main():\n",
    "  weather_data = [\n",
    "      {'temperature': 25, 'humidity': 60},\n",
    "      {'temperature': 32, 'humidity': 75},\n",
    "      {'temperature': 18, 'humidity': 80},\n",
    "      # ... more data points\n",
    "  ]\n"
   ]
  },
  {
   "cell_type": "code",
   "execution_count": 5,
   "id": "6b40a24e-5dc0-4eaa-962c-d50ec7cec461",
   "metadata": {},
   "outputs": [
    {
     "ename": "IndentationError",
     "evalue": "unexpected indent (4292206561.py, line 4)",
     "output_type": "error",
     "traceback": [
      "\u001b[1;36m  Cell \u001b[1;32mIn[5], line 4\u001b[1;36m\u001b[0m\n\u001b[1;33m    print(\"Average temperature:\", average_temperature)\u001b[0m\n\u001b[1;37m    ^\u001b[0m\n\u001b[1;31mIndentationError\u001b[0m\u001b[1;31m:\u001b[0m unexpected indent\n"
     ]
    }
   ],
   "source": [
    "average_temperature = calculate_average(weather_data, 'temperature')\n",
    "average_humidity = calculate_average(weather_data, 'humidity')\n",
    "\n",
    "  print(\"Average temperature:\", average_temperature)\n",
    "  print(\"Average humidity:\", average_humidity)\n",
    "\n",
    "  for day in weather_data:\n",
    "    condition = determine_weather_condition(day['temperature'], day['humidity'])\n",
    "    print(f\"Temperature: {day['temperature']}°C, Humidity: {day['humidity']}% - {condition}\")\n",
    "\n",
    "if __name__ == \"__main__\":\n",
    "  main()\n"
   ]
  },
  {
   "cell_type": "code",
   "execution_count": null,
   "id": "2a306298-6d8e-4649-8e82-8e9b4f6dc479",
   "metadata": {},
   "outputs": [],
   "source": []
  }
 ],
 "metadata": {
  "kernelspec": {
   "display_name": "Python 3 (ipykernel)",
   "language": "python",
   "name": "python3"
  },
  "language_info": {
   "codemirror_mode": {
    "name": "ipython",
    "version": 3
   },
   "file_extension": ".py",
   "mimetype": "text/x-python",
   "name": "python",
   "nbconvert_exporter": "python",
   "pygments_lexer": "ipython3",
   "version": "3.12.4"
  }
 },
 "nbformat": 4,
 "nbformat_minor": 5
}
