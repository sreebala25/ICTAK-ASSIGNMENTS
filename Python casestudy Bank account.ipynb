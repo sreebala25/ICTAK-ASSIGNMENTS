{
 "cells": [
  {
   "cell_type": "code",
   "execution_count": 1,
   "id": "5eaa651b-3cf5-47e9-be81-397b655aa438",
   "metadata": {},
   "outputs": [],
   "source": [
    "def create_account(account_number, initial_balance):\n",
    "  \"\"\"Creates a new bank account with the given initial balance.\"\"\"\n",
    "  account = {\n",
    "      'account_number': account_number,\n",
    "      'balance': initial_balance\n",
    "  }\n",
    "  return account\n"
   ]
  },
  {
   "cell_type": "code",
   "execution_count": null,
   "id": "ee3c65f0-1136-4f38-b733-f58fd4bf510b",
   "metadata": {},
   "outputs": [],
   "source": []
  },
  {
   "cell_type": "code",
   "execution_count": 2,
   "id": "536fad4c-1850-4397-9ea0-fde3710713d1",
   "metadata": {},
   "outputs": [],
   "source": [
    "account1 = create_account(\"30635728424\", 10000)"
   ]
  },
  {
   "cell_type": "code",
   "execution_count": 3,
   "id": "5589e80c-4059-4e80-b0e5-651a11c19a2f",
   "metadata": {},
   "outputs": [],
   "source": [
    "def deposit(account, amount):\n",
    "  \"\"\"Deposits the specified amount into the account.\"\"\"\n",
    "  account['balance'] += amount\n",
    "  print(f\"Deposited ₹{amount}. New balance: ₹{account['balance']}\")\n"
   ]
  },
  {
   "cell_type": "code",
   "execution_count": 4,
   "id": "0cbc6cf4-e25e-466c-9cd5-f9de3ec86e2b",
   "metadata": {},
   "outputs": [],
   "source": [
    "def withdraw(account, amount):\n",
    "  \"\"\"Withdraws the specified amount from the account if sufficient balance.\"\"\"\n",
    "  if amount <= account['balance']:\n",
    "    account['balance'] -= amount\n",
    "    print(f\"Withdrew ₹{amount}. New balance: ₹{account['balance']}\")\n",
    "  else:\n",
    "    print(\"Insufficient balance.\")\n"
   ]
  },
  {
   "cell_type": "code",
   "execution_count": 5,
   "id": "e65561dc-748b-41a9-add2-5651793b1f6b",
   "metadata": {},
   "outputs": [],
   "source": [
    "def check_balance(account):\n",
    "  \"\"\"Displays the current balance of the account.\"\"\"\n",
    "  print(f\"Current balance: ₹{account['balance']}\")\n"
   ]
  },
  {
   "cell_type": "code",
   "execution_count": 6,
   "id": "3c5fd8c5-120a-41e9-a16e-9f2d70e5bcb6",
   "metadata": {},
   "outputs": [
    {
     "name": "stdout",
     "output_type": "stream",
     "text": [
      "Deposited ₹2000. New balance: ₹12000\n",
      "Withdrew ₹1100. New balance: ₹10900\n",
      "Current balance: ₹10900\n"
     ]
    }
   ],
   "source": [
    "account1 = create_account(\"30635728424\", 10000)\n",
    "deposit(account1, 2000)\n",
    "withdraw(account1, 1100)\n",
    "check_balance(account1)\n"
   ]
  },
  {
   "cell_type": "code",
   "execution_count": null,
   "id": "ad97b508-e536-4dcd-9c79-d764715710d3",
   "metadata": {},
   "outputs": [],
   "source": []
  }
 ],
 "metadata": {
  "kernelspec": {
   "display_name": "Python 3 (ipykernel)",
   "language": "python",
   "name": "python3"
  },
  "language_info": {
   "codemirror_mode": {
    "name": "ipython",
    "version": 3
   },
   "file_extension": ".py",
   "mimetype": "text/x-python",
   "name": "python",
   "nbconvert_exporter": "python",
   "pygments_lexer": "ipython3",
   "version": "3.12.4"
  }
 },
 "nbformat": 4,
 "nbformat_minor": 5
}
